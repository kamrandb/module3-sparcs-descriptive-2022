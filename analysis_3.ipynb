{
  "nbformat": 4,
  "nbformat_minor": 0,
  "metadata": {
    "colab": {
      "provenance": []
    },
    "kernelspec": {
      "name": "python3",
      "display_name": "Python 3"
    },
    "language_info": {
      "name": "python"
    }
  },
  "cells": [
    {
      "cell_type": "code",
      "source": [
        "# Homework 3: Module 3 - SPARCS Analysis\n",
        "# Name: Kamran Butt\n",
        "# Date: 10/10/2024\n",
        "# Version: 1.0"
      ],
      "metadata": {
        "id": "q3mqJH7GCtAc"
      },
      "execution_count": 100,
      "outputs": []
    },
    {
      "cell_type": "code",
      "execution_count": null,
      "metadata": {
        "id": "-rkdbs-Sc2Iq"
      },
      "outputs": [],
      "source": [
        "## 1. Setup Github Repository - Completed on Github\n",
        "\n",
        "## 2. Loading the Data\n",
        "import pandas as pd\n",
        "import time\n",
        "import matplotlib.pyplot as plt\n",
        "\n",
        "# Do not display exponential notation\n",
        "pd.set_option('display.float_format', lambda x: '%.3f' % x)\n",
        "\n",
        "start_time = time.time()\n",
        "df = pd.read_csv('/content/drive/MyDrive/HHA 507/Homework 3/sparcs_2022.csv')\n",
        "end_time = time.time()\n",
        "load_time = end_time - start_time\n",
        "print (f\"Time to load data: {load_time} seconds\")"
      ]
    },
    {
      "cell_type": "code",
      "source": [
        "# Remove all white space, lower case, replace space with underscore\n",
        "df.columns = df.columns.str.strip().str.lower().str.replace(' ','_').str.replace('(','').str.replace(')','').str.replace('-','_')\n",
        "\n",
        "# Remove commas from total_charges and total_costs\n",
        "df.total_charges = df.total_charges.apply(lambda x : x.replace (',',''))\n",
        "df.total_costs = df.total_costs.apply(lambda x : x.replace (',',''))\n",
        "\n",
        "# Convert 'total_charges' and 'total_costs' to numeric, coercing errors to NaN\n",
        "df['total_charges'] = pd.to_numeric(df['total_charges'], errors='coerce')\n",
        "df['total_costs'] = pd.to_numeric(df['total_costs'], errors='coerce')\n"
      ],
      "metadata": {
        "id": "EnuBpUSUhuRW"
      },
      "execution_count": null,
      "outputs": []
    },
    {
      "cell_type": "code",
      "source": [
        "# Reference for column names\n",
        "df.columns"
      ],
      "metadata": {
        "id": "JTXCDCNHfLPb"
      },
      "execution_count": null,
      "outputs": []
    },
    {
      "cell_type": "code",
      "source": [
        "# Display the first 10 rows to verify the data is loaded correctly\n",
        "\n",
        "df.head(10)"
      ],
      "metadata": {
        "id": "FpC2WroRe8_X"
      },
      "execution_count": null,
      "outputs": []
    },
    {
      "cell_type": "code",
      "source": [
        "# Only keep Suffolk and Nassau counties\n",
        "\n",
        "df_suffolk_nassau = df[(df.hospital_county =='Suffolk') | (df.hospital_county == 'Nassau')]\n",
        "\n",
        "suffolk = df_suffolk_nassau[df_suffolk_nassau.hospital_county == 'Suffolk']\n",
        "nassau = df_suffolk_nassau [df_suffolk_nassau.hospital_county == 'Nassau']\n",
        "\n",
        "## Test loaded records\n",
        "##len(suffolk)\n",
        "##len(nassau)"
      ],
      "metadata": {
        "id": "FqTnsndri8P2"
      },
      "execution_count": null,
      "outputs": []
    },
    {
      "cell_type": "code",
      "source": [
        "## 3. Basic Descriptive Statsitcs\n",
        "\n",
        "# length_of_stay\n",
        "\n",
        "desc_suffolk = suffolk['length_of_stay'].describe()\n",
        "print(\"Suffolk:\")\n",
        "display(desc_suffolk)\n",
        "\n",
        "\n",
        "desc_nassau = nassau['length_of_stay'].describe()\n",
        "print(\"Nassau:\")\n",
        "display(desc_nassau)"
      ],
      "metadata": {
        "id": "3XWw9DShqsDA"
      },
      "execution_count": null,
      "outputs": []
    },
    {
      "cell_type": "code",
      "source": [
        "# total_charges\n",
        "\n",
        "desc_suffolk = suffolk['total_charges'].describe()\n",
        "print(\"Suffolk:\")\n",
        "display(desc_suffolk)\n",
        "\n",
        "\n",
        "desc_nassau = nassau['total_charges'].describe()\n",
        "print(\"Nassau:\")\n",
        "display(desc_nassau)"
      ],
      "metadata": {
        "id": "b3fI1l9LgeBq"
      },
      "execution_count": null,
      "outputs": []
    },
    {
      "cell_type": "code",
      "source": [
        "# total_costs\n",
        "\n",
        "desc_suffolk = suffolk['total_costs'].describe()\n",
        "print(\"Suffolk:\")\n",
        "display(desc_suffolk)\n",
        "\n",
        "\n",
        "desc_nassau = nassau['total_costs'].describe()\n",
        "print(\"Nassau:\")\n",
        "display(desc_nassau)"
      ],
      "metadata": {
        "id": "haGPFmxzq8WQ"
      },
      "execution_count": null,
      "outputs": []
    },
    {
      "cell_type": "code",
      "source": [
        "## 4. Exploring Categorical Variables\n",
        "\n",
        "# Count distributions - Suffolk\n",
        "age_group_counts_suffolk = suffolk['age_group'].value_counts()\n",
        "gender_counts_suffolk = suffolk['gender'].value_counts()\n",
        "admission_type_counts_suffolk = suffolk['type_of_admission'].value_counts()\n",
        "\n",
        "print(\"Age Group (Suffolk):\")\n",
        "display(age_group_counts_suffolk)\n",
        "\n",
        "print(\"Gender (Suffolk):\")\n",
        "display(gender_counts_suffolk)\n",
        "\n",
        "print(\"Admission Type (Suffolk):\")\n",
        "display(admission_type_counts_suffolk)"
      ],
      "metadata": {
        "id": "dKCgVq22sObl"
      },
      "execution_count": null,
      "outputs": []
    },
    {
      "cell_type": "code",
      "source": [
        "# Bar plot for Age Group - Suffolk with sorted x-axis\n",
        "\n",
        "plt.figure(figsize=(8,6))\n",
        "age_group_counts_suffolk.plot(kind='bar', x='Age Group', y='Count', legend=False, color='lavender')\n",
        "plt.title('Age Group - Suffolk County')\n",
        "plt.xlabel('Age Group')\n",
        "plt.ylabel('Count')\n",
        "plt.show()"
      ],
      "metadata": {
        "id": "PH_wFoFUtSD6"
      },
      "execution_count": null,
      "outputs": []
    },
    {
      "cell_type": "code",
      "source": [
        "# Bar plot for Gender - Suffolk with sorted x-axis\n",
        "\n",
        "plt.figure(figsize=(8,6))\n",
        "gender_counts_suffolk.plot(kind='bar', x='Age Group', y='Count', legend=False, color='skyblue')\n",
        "plt.title('Gender - Suffolk County')\n",
        "plt.xlabel('Gender')\n",
        "plt.ylabel('Count')\n",
        "plt.show()"
      ],
      "metadata": {
        "id": "iRIoTF3ouCQ_"
      },
      "execution_count": null,
      "outputs": []
    },
    {
      "cell_type": "code",
      "source": [
        "# Bar plot for Admission Type - Suffolk with sorted x-axis\n",
        "\n",
        "plt.figure(figsize=(8,6))\n",
        "admission_type_counts_suffolk.plot(kind='bar', x='Age Group', y='Count', legend=False, color='blue')\n",
        "plt.title('Admission Type - Suffolk County')\n",
        "plt.xlabel('Admission Type')\n",
        "plt.ylabel('Count')\n",
        "plt.show()"
      ],
      "metadata": {
        "id": "Qzq2Nfheu1_d"
      },
      "execution_count": null,
      "outputs": []
    },
    {
      "cell_type": "code",
      "source": [
        "# Count distributions - Nassau\n",
        "age_group_counts_nassau = nassau['age_group'].value_counts()\n",
        "gender_counts_nassau = nassau['gender'].value_counts()\n",
        "admission_type_counts_nassau = nassau['type_of_admission'].value_counts()\n",
        "\n",
        "print(\"Age Group (Nassau):\")\n",
        "display(age_group_counts_nassau)\n",
        "\n",
        "print(\"Gender (Nassau):\")\n",
        "display(gender_counts_nassau)\n",
        "\n",
        "print(\"Admission Type (Nassau):\")\n",
        "display(admission_type_counts_nassau)"
      ],
      "metadata": {
        "id": "mwqIhI_Asy3T"
      },
      "execution_count": null,
      "outputs": []
    },
    {
      "cell_type": "code",
      "source": [
        "# Bar plot for Age Group - Nassau with sorted x-axis\n",
        "\n",
        "plt.figure(figsize=(8,6))\n",
        "age_group_counts_nassau.plot(kind='bar', x='Age Group', y='Count', legend=False, color='lightcoral')\n",
        "plt.title('Age Group - Nassau County')\n",
        "plt.xlabel('Age Group')\n",
        "plt.ylabel('Count')\n",
        "plt.show()"
      ],
      "metadata": {
        "id": "rrItFjTFvIKN"
      },
      "execution_count": null,
      "outputs": []
    },
    {
      "cell_type": "code",
      "source": [
        "# Bar plot for Gender - Nassau with sorted x-axis\n",
        "\n",
        "plt.figure(figsize=(8,6))\n",
        "gender_counts_nassau.plot(kind='bar', x='Age Group', y='Count', legend=False, color='mistyrose')\n",
        "plt.title('Gender - Nassau County')\n",
        "plt.xlabel('Gender')\n",
        "plt.ylabel('Count')\n",
        "plt.show()"
      ],
      "metadata": {
        "id": "snAKpxgxvIC-"
      },
      "execution_count": null,
      "outputs": []
    },
    {
      "cell_type": "code",
      "source": [
        "# Bar plot for Admission Type - Nassau with sorted x-axis\n",
        "\n",
        "plt.figure(figsize=(8,6))\n",
        "admission_type_counts_nassau.plot(kind='bar', x='Age Group', y='Count', legend=False, color='tomato')\n",
        "plt.title('Admission Type - Nassau County')\n",
        "plt.xlabel('Admission Type')\n",
        "plt.ylabel('Count')\n",
        "plt.show()"
      ],
      "metadata": {
        "id": "HGEmedz_vH7P"
      },
      "execution_count": null,
      "outputs": []
    },
    {
      "cell_type": "code",
      "source": [
        "## 5. Visualizations:\n",
        "\n",
        "# Histogram of Length of Stay - Suffolk\n",
        "plt.figure(figsize=(8,6))\n",
        "plt.hist(suffolk['length_of_stay'].dropna(), bins=20, edgecolor='black', color='lightblue')\n",
        "plt.title('Distribution of Length of Stay - Suffolk')\n",
        "plt.xlabel('Length of Stay (days)')\n",
        "plt.ylabel('Frequency')\n",
        "plt.grid(True)\n",
        "plt.show()\n",
        "\n",
        "# Boxplot for Total Charges to identify outliers - Suffolk\n",
        "plt.figure(figsize=(8,6))\n",
        "plt.boxplot(suffolk['total_charges'].dropna(), vert=False)\n",
        "plt.title('Boxplot of Total Charges - Suffolk')\n",
        "plt.xlabel('Total Charges ($)')\n",
        "plt.grid(True)\n",
        "plt.show()\n",
        "\n",
        "# Bar plot for Type of Admission to analyze admission trends - Suffolk\n",
        "plt.figure(figsize=(8,6))\n",
        "admission_type_counts_suffolk.plot(kind='bar', x='Type of Admission', y='Count', legend=False, color='salmon')\n",
        "plt.title('Type of Admission - Suffolk')\n",
        "plt.xlabel('Type of Admission')\n",
        "plt.ylabel('Count')\n",
        "plt.grid(True)\n",
        "plt.show()"
      ],
      "metadata": {
        "id": "FkbwhcIGEYmN"
      },
      "execution_count": null,
      "outputs": []
    },
    {
      "cell_type": "code",
      "source": [
        "# Histogram of Length of Stay - Nassau\n",
        "plt.figure(figsize=(8,6))\n",
        "plt.hist(nassau['length_of_stay'].dropna(), bins=20, edgecolor='black', color='honeydew')\n",
        "plt.title('Distribution of Length of Stay - Nassau')\n",
        "plt.xlabel('Length of Stay (days)')\n",
        "plt.ylabel('Frequency')\n",
        "plt.grid(True)\n",
        "plt.show()\n",
        "\n",
        "# Boxplot for Total Charges to identify outliers - Nassau\n",
        "plt.figure(figsize=(8,6))\n",
        "plt.boxplot(nassau['total_charges'].dropna(), vert=False)\n",
        "plt.title('Boxplot of Total Charges - Nassau')\n",
        "plt.xlabel('Total Charges ($)')\n",
        "plt.grid(True)\n",
        "plt.show()\n",
        "\n",
        "# Bar plot for Type of Admission to analyze admission trends - Nassau\n",
        "plt.figure(figsize=(8,6))\n",
        "admission_type_counts_nassau.plot(kind='bar', x='Type of Admission', y='Count', legend=False, color='palegreen')\n",
        "plt.title('Type of Admission - Nassau')\n",
        "plt.xlabel('Type of Admission')\n",
        "plt.ylabel('Count')\n",
        "plt.grid(True)\n",
        "plt.show()"
      ],
      "metadata": {
        "id": "uGWtfvW3xFzo"
      },
      "execution_count": null,
      "outputs": []
    },
    {
      "cell_type": "code",
      "source": [
        "## 6. Handling Missing Data\n",
        "\n",
        "# Check for missing data in the 'suffolk' DataFrame\n",
        "missing_data_suffolk = suffolk.isnull().sum()\n",
        "\n",
        "# Convert to DataFrame and rename the column\n",
        "missing_data_suffolk_df = pd.DataFrame(missing_data_suffolk, columns=['Missing Values'])\n",
        "\n",
        "# Filter out columns with missing data\n",
        "missing_data_suffolk_df = missing_data_suffolk_df[missing_data_suffolk_df['Missing Values'] == 0]\n",
        "\n",
        "# Sort by 'Missing Values' in descending order\n",
        "missing_data_suffolk_df_sorted = missing_data_suffolk_df.sort_values(by='Missing Values', ascending=False)\n",
        "\n",
        "# Display the sorted DataFrame\n",
        "missing_data_suffolk_df_sorted\n"
      ],
      "metadata": {
        "id": "3Ioqtk32FHAu"
      },
      "execution_count": null,
      "outputs": []
    },
    {
      "cell_type": "code",
      "source": [
        "# Check for missing data in the 'nassau' DataFrame\n",
        "missing_data_nassau = nassau.isnull().sum()\n",
        "\n",
        "# Convert to DataFrame and rename the column\n",
        "missing_data_nassau_df = pd.DataFrame(missing_data_nassau, columns=['Missing Values'])\n",
        "\n",
        "# Filter out columns with no missing data (optional)\n",
        "missing_data_nassau_df = missing_data_nassau_df[missing_data_nassau_df['Missing Values'] == 0]\n",
        "\n",
        "# Sort by 'Missing Values' in descending order\n",
        "missing_data_nassau_df_sorted = missing_data_nassau_df.sort_values(by='Missing Values', ascending=False)\n",
        "\n",
        "# Display the sorted DataFrame\n",
        "missing_data_nassau_df_sorted"
      ],
      "metadata": {
        "id": "Btnxeajnygn6"
      },
      "execution_count": null,
      "outputs": []
    },
    {
      "cell_type": "code",
      "source": [
        "## 7. Summary Report\n",
        "\n",
        "# Average Length of Stay - Suffolk\n",
        "\n",
        "# Convert 'length_of_stay' to numeric, coercing errors to NaN\n",
        "suffolk['length_of_stay'] = pd.to_numeric(suffolk['length_of_stay'], errors='coerce')\n",
        "\n",
        "# Calculate the average length of stay\n",
        "average_length_of_stay = suffolk['length_of_stay'].mean()\n",
        "print(f\"Average Length of Stay - Suffolk: {average_length_of_stay:.2f} days\")"
      ],
      "metadata": {
        "id": "FSP_354O013m"
      },
      "execution_count": null,
      "outputs": []
    },
    {
      "cell_type": "code",
      "source": [
        "# Average Length of Stay - Nassau\n",
        "\n",
        "# Convert 'length_of_stay' to numeric, coercing errors to NaN\n",
        "nassau['length_of_stay'] = pd.to_numeric(nassau['length_of_stay'], errors='coerce')\n",
        "\n",
        "# Calculate the average length of stay\n",
        "average_length_of_stay = nassau['length_of_stay'].mean()\n",
        "print(f\"Average Length of Stay - Nassau: {average_length_of_stay:.2f} days\")"
      ],
      "metadata": {
        "id": "BeVxoU-V1rhm"
      },
      "execution_count": null,
      "outputs": []
    },
    {
      "cell_type": "code",
      "source": [
        "# Total cost variance by age group or type of admission - Suffolk\n",
        "\n",
        "# Group by Age Group and calculate mean total costs\n",
        "cost_by_age_group = suffolk.groupby('age_group')['total_costs'].mean().reset_index()\n",
        "\n",
        "# Display the DataFrame\n",
        "print(\"Average Total Costs by Age Group:\")\n",
        "print(cost_by_age_group)\n",
        "\n",
        "# Group by Type of Admission and calculate mean total costs\n",
        "cost_by_admission_type = suffolk.groupby('type_of_admission')['total_costs'].mean().reset_index()\n",
        "\n",
        "# Display the DataFrame\n",
        "print(\"\\nAverage Total Costs by Type of Admission:\")\n",
        "print(cost_by_admission_type)"
      ],
      "metadata": {
        "id": "nTTue9fV2Eif"
      },
      "execution_count": null,
      "outputs": []
    },
    {
      "cell_type": "code",
      "source": [
        "# Total cost variance by age group or type of admission - Nassau\n",
        "\n",
        "# Group by Age Group and calculate mean total costs\n",
        "cost_by_age_group = nassau.groupby('age_group')['total_costs'].mean().reset_index()\n",
        "\n",
        "# Display the DataFrame\n",
        "print(\"Average Total Costs by Age Group:\")\n",
        "print(cost_by_age_group)\n",
        "\n",
        "# Group by Type of Admission and calculate mean total costs\n",
        "cost_by_admission_type = nassau.groupby('type_of_admission')['total_costs'].mean().reset_index()\n",
        "\n",
        "# Display the DataFrame\n",
        "print(\"\\nAverage Total Costs by Type of Admission:\")\n",
        "print(cost_by_admission_type)"
      ],
      "metadata": {
        "id": "tnsNa5MP2Wzj"
      },
      "execution_count": null,
      "outputs": []
    },
    {
      "cell_type": "code",
      "source": [
        "# Trends - Suffolk\n",
        "\n",
        "# Group by Age Group and calculate mean total charges\n",
        "charges_by_age_group = suffolk.groupby('age_group')['total_charges'].mean().reset_index()\n",
        "\n",
        "# Display the DataFrame\n",
        "print(\"\\nAverage Total Charges by Age Group:\")\n",
        "print(charges_by_age_group)\n",
        "\n",
        "# Group by Type of Admission and calculate mean total charges\n",
        "charges_by_admission_type = suffolk.groupby('type_of_admission')['total_charges'].mean().reset_index()\n",
        "\n",
        "# Display the DataFrame\n",
        "print(\"\\nAverage Total Charges by Type of Admission:\")\n",
        "print(charges_by_admission_type)"
      ],
      "metadata": {
        "id": "dWHClzzg3ByD"
      },
      "execution_count": null,
      "outputs": []
    },
    {
      "cell_type": "code",
      "source": [
        "# Trends - Nassau\n",
        "\n",
        "# Group by Age Group and calculate mean total charges\n",
        "charges_by_age_group = nassau.groupby('age_group')['total_charges'].mean().reset_index()\n",
        "\n",
        "# Display the DataFrame\n",
        "print(\"\\nAverage Total Charges by Age Group:\")\n",
        "print(charges_by_age_group)\n",
        "\n",
        "# Group by Type of Admission and calculate mean total charges\n",
        "charges_by_admission_type = nassau.groupby('type_of_admission')['total_charges'].mean().reset_index()\n",
        "\n",
        "# Display the DataFrame\n",
        "print(\"\\nAverage Total Charges by Type of Admission:\")\n",
        "print(charges_by_admission_type)\n"
      ],
      "metadata": {
        "id": "b1Zt2Nxq3Sal"
      },
      "execution_count": null,
      "outputs": []
    },
    {
      "cell_type": "code",
      "source": [
        "## Extra Credit\n",
        "\n",
        "# Group by Ethnicity and calculate mean total charges and length of stay\n",
        "charges_by_ethnicity = suffolk.groupby('ethnicity').agg({\n",
        "    'total_charges': 'mean',\n",
        "    'length_of_stay': 'mean'\n",
        "}).reset_index()\n",
        "\n",
        "# Display the DataFrame\n",
        "print(\"Average Total Charges and Length of Stay by Ethnicity:\")\n",
        "print(charges_by_ethnicity)\n"
      ],
      "metadata": {
        "id": "3scQIsfW3cvb"
      },
      "execution_count": null,
      "outputs": []
    },
    {
      "cell_type": "code",
      "source": [
        "# Group by Race and calculate mean total charges and length of stay\n",
        "charges_by_race = suffolk.groupby('race').agg({\n",
        "    'total_charges': 'mean',\n",
        "    'length_of_stay': 'mean'\n",
        "}).reset_index()\n",
        "\n",
        "# Display the DataFrame\n",
        "print(\"\\nAverage Total Charges and Length of Stay by Race:\")\n",
        "print(charges_by_race)"
      ],
      "metadata": {
        "id": "s_DOLHoG3sSl"
      },
      "execution_count": null,
      "outputs": []
    },
    {
      "cell_type": "code",
      "source": [
        "# Plot pairplot for total charges and length of stay by race\n",
        "import seaborn as sns\n",
        "import matplotlib.pyplot as plt\n",
        "\n",
        "plt.figure(figsize=(10, 6))\n",
        "sns.pairplot(suffolk, hue='race', vars=['total_charges', 'length_of_stay'], palette='Set2')\n",
        "plt.title('Pairplot of Total Charges and Length of Stay by Race')\n",
        "plt.show()\n"
      ],
      "metadata": {
        "id": "MMF2BPVz4Dyk"
      },
      "execution_count": null,
      "outputs": []
    }
  ]
}